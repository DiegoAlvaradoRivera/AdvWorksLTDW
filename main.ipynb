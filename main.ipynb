{
 "cells": [
  {
   "cell_type": "code",
   "execution_count": 1,
   "metadata": {
    "azdata_cell_guid": "823bd227-cddf-4fbf-a179-f1958400c20d",
    "language": "powershell",
    "scrolled": true
   },
   "outputs": [
    {
     "name": "stdout",
     "output_type": "stream",
     "text": [
      "\n",
      "\u001b[32;1mMajor  Minor  Build  Revision\u001b[0m\n",
      "\u001b[32;1m-----  -----  -----  --------\u001b[0m\n",
      "7      2      8      -1\n",
      "\n"
     ]
    }
   ],
   "source": [
    "# check the powershell host environment\n",
    "(Get-Host).Version"
   ]
  },
  {
   "cell_type": "code",
   "execution_count": 2,
   "metadata": {},
   "outputs": [
    {
     "name": "stdout",
     "output_type": "stream",
     "text": []
    }
   ],
   "source": [
    "<#\n",
    "    Function that starts an Az Data Factory Pipeline and waits until the pipeline finishes execution.\n",
    "#>\n",
    "function Run-AzDataFactoryV2PipelineSync {\n",
    "    param (\n",
    "        [Parameter(Mandatory)]\n",
    "        [string] $resourceGroupName,\n",
    "        [string] $dataFactoryName,\n",
    "        [string] $pipelineName\n",
    "    ) \n",
    "\n",
    "    $runID = Invoke-AzDataFactoryV2Pipeline `\n",
    "        -ResourceGroupName $resourceGroupName `\n",
    "        -DataFactoryName   $dataFactoryName `\n",
    "        -PipelineName      $pipelineName\n",
    "\n",
    "    Write-Host \"Started pipeline $pipelineName with RunID: $runID\"\n",
    "\n",
    "    $runInfo = $null \n",
    "\n",
    "    do {\n",
    "        Start-Sleep -Seconds 15\n",
    "\n",
    "        $runInfo = Get-AzDataFactoryV2PipelineRun `\n",
    "            -ResourceGroupName $resourceGroupName `\n",
    "            -DataFactoryName   $dataFactoryName `\n",
    "            -PipelineRunId     $runID\n",
    "\n",
    "    } while ($runInfo.RunEnd -eq $null)\n",
    "\n",
    "    Write-Host \"Pipeline finished with status $($runInfo.Status)\"\n",
    "}"
   ]
  },
  {
   "cell_type": "code",
   "execution_count": 3,
   "metadata": {
    "azdata_cell_guid": "28303c73-996a-4031-a84f-c0008e305952",
    "language": "powershell",
    "tags": []
   },
   "outputs": [
    {
     "name": "stdout",
     "output_type": "stream",
     "text": []
    }
   ],
   "source": [
    "# install the PS SQLServer module\n",
    "# Install-Module -Name SqlServer\n",
    "\n",
    "# install the PS Azure module\n",
    "# Install-Module -Name Az -Scope CurrentUser -Repository PSGallery -Force\n",
    "\n",
    "# check that sqlcmd is installed\n",
    "# sqlcmd -?"
   ]
  },
  {
   "cell_type": "code",
   "execution_count": 3,
   "metadata": {
    "azdata_cell_guid": "e377d120-fc19-4ce0-ae1c-5573c133a263",
    "language": "powershell",
    "tags": []
   },
   "outputs": [
    {
     "name": "stdout",
     "output_type": "stream",
     "text": [
      ". {\n",
      ">> # set the parameters\n",
      ">> \n",
      ">> $randomString = \"rgawltdw\" + $(get-random)\n",
      ">> \n",
      ">> $location = \"EastUS\"\n",
      ">> $resourceGroupName = \"$randomString\" + \"rg\"\n",
      ">> \n",
      ">> $serverName = \"$resourceGroupName-sqlserver\"\n",
      ">> $databaseName = \"$resourceGroupName-sqldb\"\n",
      ">> $server = \"$serverName.database.windows.net\"\n",
      ">> $sqlLogin = \"dbadmin\"\n",
      ">> # generate a random password for the SQL Server Login\n",
      ">> $password = \"VjK\" + $(get-random) + \"@PS\"\n",
      ">> \n",
      ">> $adlsAccountName = \"$resourceGroupName\" + \"dls\"\n",
      ">> $adlsURL = \"https://$adlsAccountName.dfs.core.windows.net/\"\n",
      ">> \n",
      ">> $dataFactoryName = \"$resourceGroupName-df\"\n",
      ">> \n",
      ">> $keyVaultName = \"$resourceGroupName-kv\"\n",
      ">> $keyVaultURL = \"https://$keyVaultName.vault.azure.net/\"\n",
      ">> \n",
      ">> # add your IP address to the sql server allowed IPs list\n",
      ">> $myIP = \"0.0.0.0\"\n",
      ">> }\n",
      ">> \n"
     ]
    }
   ],
   "source": [
    "# set the parameters\n",
    "\n",
    "$randomString = \"rgawltdw\" + $(get-random)\n",
    "\n",
    "$location = \"EastUS\"\n",
    "$resourceGroupName = \"$randomString\" + \"rg\"\n",
    "\n",
    "$serverName = \"$resourceGroupName-sqlserver\"\n",
    "$databaseName = \"$resourceGroupName-sqldb\"\n",
    "$server = \"$serverName.database.windows.net\"\n",
    "$sqlLogin = \"dbadmin\"\n",
    "# generate a random password for the SQL Server Login\n",
    "$password = \"VjK\" + $(get-random) + \"@PS\"\n",
    "\n",
    "$adlsAccountName = \"$resourceGroupName\" + \"dls\"\n",
    "$adlsURL = \"https://$adlsAccountName.dfs.core.windows.net/\"\n",
    "\n",
    "$dataFactoryName = \"$resourceGroupName-df\"\n",
    "\n",
    "$keyVaultName = \"$resourceGroupName-kv\"\n",
    "$keyVaultURL = \"https://$keyVaultName.vault.azure.net/\"\n",
    "\n",
    "# add your IP address to the sql server allowed IPs list\n",
    "$myIP = \"0.0.0.0\""
   ]
  },
  {
   "cell_type": "code",
   "execution_count": 4,
   "metadata": {
    "azdata_cell_guid": "9a681aee-9ca1-4ef3-a4be-da6e06ee70ce",
    "language": "powershell",
    "scrolled": true,
    "tags": []
   },
   "outputs": [
    {
     "name": "stdout",
     "output_type": "stream",
     "text": []
    }
   ],
   "source": [
    "# connect to Azure\n",
    "$null = Connect-AzAccount"
   ]
  },
  {
   "cell_type": "markdown",
   "metadata": {
    "azdata_cell_guid": "aa365208-88ec-4a2c-9d99-a67278d10a6b"
   },
   "source": [
    "## Deploy Resources"
   ]
  },
  {
   "cell_type": "code",
   "execution_count": 5,
   "metadata": {
    "azdata_cell_guid": "a98871f4-4a03-42c9-bd35-f0aeb892ff63",
    "language": "powershell"
   },
   "outputs": [
    {
     "name": "stdout",
     "output_type": "stream",
     "text": []
    }
   ],
   "source": [
    "# create a resource group\n",
    "$null = New-AzResourceGroup `\n",
    "    -Name $resourceGroupName `\n",
    "    -Location $location "
   ]
  },
  {
   "cell_type": "code",
   "execution_count": 6,
   "metadata": {
    "azdata_cell_guid": "b6d59eb8-261b-4f1c-a295-36b578388bc4",
    "language": "powershell",
    "tags": []
   },
   "outputs": [
    {
     "name": "stdout",
     "output_type": "stream",
     "text": []
    }
   ],
   "source": [
    "# create an adls storage account\n",
    "$null = New-AzStorageAccount `\n",
    "    -ResourceGroupName $resourceGroupName `\n",
    "    -Name $adlsAccountName `\n",
    "    -Type Standard_LRS `\n",
    "    -Location $location `\n",
    "    -AccessTier Cool `\n",
    "    -EnableHierarchicalNamespace $true"
   ]
  },
  {
   "cell_type": "code",
   "execution_count": 7,
   "metadata": {
    "azdata_cell_guid": "8a4f3242-0151-4b5d-a002-4f6a1a1a667a",
    "language": "powershell"
   },
   "outputs": [
    {
     "name": "stdout",
     "output_type": "stream",
     "text": [
      ". {\n",
      ">> # create an sql server\n",
      ">> $passwordSecureString = ConvertTo-SecureString `\n",
      ">>     -String $password -AsPlainText -Force\n",
      ">> \n",
      ">> $sqlCredentials = New-Object `\n",
      ">>     -TypeName System.Management.Automation.PSCredential `\n",
      ">>     -ArgumentList $sqlLogin, $passwordSecureString\n",
      ">> \n",
      ">> $null = New-AzSqlServer `\n",
      ">>     -ResourceGroupName $resourceGroupName `\n",
      ">>     -ServerName $serverName `\n",
      ">>     -Location $location `\n",
      ">>     -SqlAdministratorCredentials $sqlCredentials\n",
      ">> \n",
      ">> # allow azure services to connect to the sql server\n",
      ">> $null = New-AzSqlServerFirewallRule `\n",
      ">>     -ResourceGroupName $resourceGroupName `\n",
      ">>     -ServerName $serverName `\n",
      ">>     -AllowAllAzureIPs\n",
      ">> \n",
      ">> # create a server firewall rule that allows access to your ip\n",
      ">> $null = New-AzSqlServerFirewallRule `\n",
      ">>     -ResourceGroupName $resourceGroupName `\n",
      ">>     -ServerName $serverName `\n",
      ">>     -FirewallRuleName \"AllowedIPs\" `\n",
      ">>     -StartIpAddress $myIP `\n",
      ">>     -EndIpAddress $myIP\n",
      ">> }\n",
      ">> \n"
     ]
    }
   ],
   "source": [
    "# create an sql server\n",
    "$passwordSecureString = ConvertTo-SecureString `\n",
    "    -String $password -AsPlainText -Force\n",
    "\n",
    "$sqlCredentials = New-Object `\n",
    "    -TypeName System.Management.Automation.PSCredential `\n",
    "    -ArgumentList $sqlLogin, $passwordSecureString\n",
    "\n",
    "$null = New-AzSqlServer `\n",
    "    -ResourceGroupName $resourceGroupName `\n",
    "    -ServerName $serverName `\n",
    "    -Location $location `\n",
    "    -SqlAdministratorCredentials $sqlCredentials\n",
    "\n",
    "# allow azure services to connect to the sql server\n",
    "$null = New-AzSqlServerFirewallRule `\n",
    "    -ResourceGroupName $resourceGroupName `\n",
    "    -ServerName $serverName `\n",
    "    -AllowAllAzureIPs\n",
    "\n",
    "# create a server firewall rule that allows access to your ip\n",
    "$null = New-AzSqlServerFirewallRule `\n",
    "    -ResourceGroupName $resourceGroupName `\n",
    "    -ServerName $serverName `\n",
    "    -FirewallRuleName \"AllowedIPs\" `\n",
    "    -StartIpAddress $myIP `\n",
    "    -EndIpAddress $myIP"
   ]
  },
  {
   "cell_type": "code",
   "execution_count": 8,
   "metadata": {
    "azdata_cell_guid": "dc5dea51-ac74-43dc-b620-8398c4f4a311",
    "language": "powershell"
   },
   "outputs": [
    {
     "name": "stdout",
     "output_type": "stream",
     "text": [
      "\u001b[33;1mWARNING: Upcoming breaking changes in the cmdlet 'New-AzSqlDatabase' :\n",
      "- The output type 'Microsoft.Azure.Commands.Sql.Database.Model.AzureSqlDatabaseModel' is changing\n",
      "- The following properties in the output type are being deprecated : 'BackupStorageRedundancy'\n",
      "- The following properties are being added to the output type : 'CurrentBackupStorageRedundancy' 'RequestedBackupStorageRedundancy'\n",
      "- The change is expected to take effect from the version : '3.0.0'\n",
      "Note : Go to https://aka.ms/azps-changewarnings for steps to suppress this breaking change warning, and other information on breaking changes in Azure PowerShell.\u001b[0m\n"
     ]
    }
   ],
   "source": [
    "# create a serverless sql database with the AdventureWorksLT sample\n",
    "$null = New-AzSqlDatabase  `\n",
    "    -ResourceGroupName       $resourceGroupName `\n",
    "    -ServerName              $serverName `\n",
    "    -DatabaseName            $databaseName  `\n",
    "    -ComputeModel            Serverless `\n",
    "    -Edition                 GeneralPurpose `\n",
    "    -Vcore                   1 `\n",
    "    -AutoPauseDelayInMinutes 60 `\n",
    "    -BackupStorageRedundancy Local `\n",
    "    -MaxSizeBytes            2GB `\n",
    "    -ComputeGeneration       Gen5 `\n",
    "    -SampleName              AdventureWorksLT"
   ]
  },
  {
   "cell_type": "code",
   "execution_count": 9,
   "metadata": {
    "azdata_cell_guid": "f54c10b5-05de-4863-a156-53353cf05155",
    "language": "powershell"
   },
   "outputs": [
    {
     "name": "stdout",
     "output_type": "stream",
     "text": [
      "\u001b[33;1mWARNING: We have migrated the API calls for this cmdlet from Azure Active Directory Graph to Microsoft Graph.\n",
      "Visit https://go.microsoft.com/fwlink/?linkid=2181475 for any permission issues.\u001b[0m\n"
     ]
    }
   ],
   "source": [
    "# create a key vault\n",
    "$null = New-AzKeyVault `\n",
    "    -Name $keyVaultName `\n",
    "    -ResourceGroupName $resourceGroupName `\n",
    "    -Location $location\n",
    "\n",
    "# create a connection string to the AdventureWorksLT database\n",
    "$connectionStringSS = (\n",
    "    \"Data Source=$server;\" + \n",
    "    \"Initial Catalog=$databaseName;\" + \n",
    "    \"Integrated Security=False;\" + \n",
    "    \"User ID=$sqlLogin;\" +\n",
    "    \"Password=$password\"\n",
    "    ) | ConvertTo-SecureString -AsPlainText -Force\n",
    "\n",
    "# create a secret for the AdventureWorksLT connection string\n",
    "$null = Set-AzKeyVaultSecret `\n",
    "    -VaultName $keyVaultName `\n",
    "    -Name \"advworkslt-sqldb-cs\" `\n",
    "    -SecretValue $connectionStringSS\n",
    "\n",
    "# get the storage key \n",
    "$storageKeySecureString = (\n",
    "    Get-AzStorageAccountKey `\n",
    "    -ResourceGroupName $resourceGroupName `\n",
    "    -Name $adlsAccountName |\n",
    "    Where-Object {$_.KeyName -eq \"key1\"}).Value | \n",
    "    ConvertTo-SecureString -AsPlainText -Force\n",
    "\n",
    "# create a secret for adls storage key\n",
    "$null = Set-AzKeyVaultSecret `\n",
    "    -VaultName $keyVaultName `\n",
    "    -Name \"advworkslt-adls-ak\" `\n",
    "    -SecretValue $storageKeySecureString"
   ]
  },
  {
   "cell_type": "code",
   "execution_count": 10,
   "metadata": {
    "azdata_cell_guid": "1186ef31-8014-4080-8bc1-27d595723e82",
    "language": "powershell",
    "scrolled": true
   },
   "outputs": [
    {
     "name": "stdout",
     "output_type": "stream",
     "text": [
      "======================================================================================\n",
      "### azure.datafactory.tools                                       Version 0.110.001 ###\n",
      "======================================================================================\n",
      "Invoking Publish-AdfV2FromJson (https://github.com/SQLPlayer/azure.datafactory.tools)\n",
      "with the following parameters:\n",
      "======================================================================================\n",
      "RootFolder:         .\\adf-resources\n",
      "ResourceGroupName:  rgawltdw395887366rg\n",
      "DataFactoryName:    rgawltdw395887366rg-df\n",
      "Location:           EastUS\n",
      "Stage:              .\\adf-resources\\deployment\\adf_config.csv\n",
      "Options provided:   True\n",
      "Publishing method:  AzResource\n",
      "Is Dry Run?:        False\n",
      "======================================================================================\n",
      "Publish options are provided.\n",
      "STEP: Verifying whether ADF exists...\n",
      "Azure Data Factory exists.\n",
      "===================================================================================\n",
      "STEP: Reading Azure Data Factory from JSON files...\n",
      "IntegrationRuntimes: 1 object(s) loaded.\n",
      "LinkedServices: 3 object(s) loaded.\n",
      "Pipelines: 5 object(s) loaded.\n",
      "DataSets: 12 object(s) loaded.\n",
      "DataFlows: 4 object(s) loaded.\n",
      "Triggers: 0 object(s) loaded.\n",
      "Managed VNet: 0 object(s) loaded.\n",
      "Managed Private Endpoints: 0 object(s) loaded.\n",
      "Credentials: 0 object(s) loaded.\n",
      "Factories: 2 object(s) loaded.\n",
      "# Number of objects marked as to be deployed: 27/27\n",
      "- [linkedService].[AdvWorksLT_ADLS_LS]\n",
      "- [linkedService].[AdvWorksLT_SQLDB_LS]\n",
      "- [linkedService].[ThisRG_KV_LS]\n",
      "- [pipeline].[CustomerHistoryIncrLoad]\n",
      "- [pipeline].[CustomerHistoryInitialLoad]\n",
      "- [pipeline].[ProductHistoryIncrLoad]\n",
      "- [pipeline].[ProductHistoryInitialLoad]\n",
      "- [pipeline].[SalesOrdersIncrLoad]\n",
      "- [dataset].[AdvWorksLTQuery]\n",
      "- [dataset].[AdvWorksLTTable]\n",
      "- [dataset].[CustomerCTFile]\n",
      "- [dataset].[CustomersHistoryCurrentRowsView]\n",
      "- [dataset].[CustomersHistoryTable]\n",
      "- [dataset].[FactSalesOrders]\n",
      "- [dataset].[ProductCTFile]\n",
      "- [dataset].[ProductsHistoryCurrentRowsView]\n",
      "- [dataset].[ProductsHistoryTable]\n",
      "- [dataset].[SalesOrdersToExtract]\n",
      "- [dataset].[SODFile]\n",
      "- [dataset].[SOHFile]\n",
      "- [dataflow].[DF_CustomerHistoryIncrLoad]\n",
      "- [dataflow].[DF_DetectSOsToExtract]\n",
      "- [dataflow].[DF_ProductHistoryIncrLoad]\n",
      "- [dataflow].[DF_SalesOrdersIncrLoad]\n",
      "- [IntegrationRuntime].[DefaultIR]\n",
      "- [factory].[advworkslightdwdemo-df]\n",
      "- [factory].[demorg1-df-dev]\n",
      "===================================================================================\n",
      "STEP: Replacing all properties environment-related...\n",
      "Config file:   .\\adf-resources\\deployment\\adf_config.csv\n",
      "Validation of config file completed.\n",
      "*** Properties modification report ***\n",
      "\n",
      "\u001b[32;1mName                           Value\u001b[0m\n",
      "\u001b[32;1m----                           -----\u001b[0m\n",
      "Removed                        0\n",
      "Updated                        2\n",
      "Added                          0\n",
      "\n",
      "===================================================================================\n",
      "STEP: Stopping triggers...\n",
      "Getting triggers...\n",
      "===================================================================================\n",
      "STEP: Deployment of all ADF objects...\n",
      "Start deploying object: [linkedService].[AdvWorksLT_ADLS_LS] (2 dependency/ies)\n",
      "Start deploying object: [IntegrationRuntime].[DefaultIR] (0 dependency/ies)\n",
      "Finished deploying object: [IntegrationRuntime].[DefaultIR]\n",
      "Start deploying object: [linkedService].[ThisRG_KV_LS] (0 dependency/ies)\n",
      "Finished deploying object: [linkedService].[ThisRG_KV_LS]\n",
      "Finished deploying object: [linkedService].[AdvWorksLT_ADLS_LS]\n",
      "Start deploying object: [linkedService].[AdvWorksLT_SQLDB_LS] (2 dependency/ies)\n",
      "Finished deploying object: [linkedService].[AdvWorksLT_SQLDB_LS]\n",
      "Start deploying object: [pipeline].[CustomerHistoryIncrLoad] (5 dependency/ies)\n",
      "Start deploying object: [dataset].[AdvWorksLTQuery] (1 dependency/ies)\n",
      "Finished deploying object: [dataset].[AdvWorksLTQuery]\n",
      "Start deploying object: [dataset].[CustomerCTFile] (1 dependency/ies)\n",
      "Finished deploying object: [dataset].[CustomerCTFile]\n",
      "Start deploying object: [dataflow].[DF_CustomerHistoryIncrLoad] (3 dependency/ies)\n",
      "Start deploying object: [dataset].[CustomersHistoryTable] (1 dependency/ies)\n",
      "Finished deploying object: [dataset].[CustomersHistoryTable]\n",
      "Finished deploying object: [dataflow].[DF_CustomerHistoryIncrLoad]\n",
      "Finished deploying object: [pipeline].[CustomerHistoryIncrLoad]\n",
      "Start deploying object: [pipeline].[CustomerHistoryInitialLoad] (5 dependency/ies)\n",
      "Finished deploying object: [pipeline].[CustomerHistoryInitialLoad]\n",
      "Start deploying object: [pipeline].[ProductHistoryIncrLoad] (5 dependency/ies)\n",
      "Start deploying object: [dataset].[ProductCTFile] (1 dependency/ies)\n",
      "Finished deploying object: [dataset].[ProductCTFile]\n",
      "Start deploying object: [dataflow].[DF_ProductHistoryIncrLoad] (3 dependency/ies)\n",
      "Start deploying object: [dataset].[ProductsHistoryTable] (1 dependency/ies)\n",
      "Finished deploying object: [dataset].[ProductsHistoryTable]\n",
      "Finished deploying object: [dataflow].[DF_ProductHistoryIncrLoad]\n",
      "Finished deploying object: [pipeline].[ProductHistoryIncrLoad]\n",
      "Start deploying object: [pipeline].[ProductHistoryInitialLoad] (5 dependency/ies)\n",
      "Finished deploying object: [pipeline].[ProductHistoryInitialLoad]\n",
      "Start deploying object: [pipeline].[SalesOrdersIncrLoad] (7 dependency/ies)\n",
      "Start deploying object: [dataset].[SOHFile] (1 dependency/ies)\n",
      "Finished deploying object: [dataset].[SOHFile]\n",
      "Start deploying object: [dataset].[SODFile] (1 dependency/ies)\n",
      "Finished deploying object: [dataset].[SODFile]\n",
      "Start deploying object: [dataflow].[DF_SalesOrdersIncrLoad] (3 dependency/ies)\n",
      "Start deploying object: [dataset].[FactSalesOrders] (1 dependency/ies)\n",
      "Finished deploying object: [dataset].[FactSalesOrders]\n",
      "Finished deploying object: [dataflow].[DF_SalesOrdersIncrLoad]\n",
      "Start deploying object: [dataflow].[DF_DetectSOsToExtract] (2 dependency/ies)\n",
      "Start deploying object: [dataset].[SalesOrdersToExtract] (1 dependency/ies)\n",
      "Finished deploying object: [dataset].[SalesOrdersToExtract]\n",
      "Finished deploying object: [dataflow].[DF_DetectSOsToExtract]\n",
      "Finished deploying object: [pipeline].[SalesOrdersIncrLoad]\n",
      "Start deploying object: [dataset].[AdvWorksLTTable] (1 dependency/ies)\n",
      "Finished deploying object: [dataset].[AdvWorksLTTable]\n",
      "Start deploying object: [dataset].[CustomersHistoryCurrentRowsView] (1 dependency/ies)\n",
      "Finished deploying object: [dataset].[CustomersHistoryCurrentRowsView]\n",
      "Start deploying object: [dataset].[ProductsHistoryCurrentRowsView] (1 dependency/ies)\n",
      "Finished deploying object: [dataset].[ProductsHistoryCurrentRowsView]\n",
      "Start deploying object: [factory].[advworkslightdwdemo-df] (0 dependency/ies)\n",
      "Finished deploying object: [factory].[advworkslightdwdemo-df]\n",
      "Start deploying object: [factory].[demorg1-df-dev] (0 dependency/ies)\n",
      "Finished deploying object: [factory].[demorg1-df-dev]\n",
      "===================================================================================\n",
      "STEP: Deleting objects not in source ...\n",
      "Azure Data Factory (instance) loaded.\n",
      "DataSets: 12 object(s) loaded.\n",
      "IntegrationRuntimes: 1 object(s) loaded.\n",
      "LinkedServices: 3 object(s) loaded.\n",
      "Pipelines: 5 object(s) loaded.\n",
      "DataFlows: 4 object(s) loaded.\n",
      "Triggers: 0 object(s) loaded.\n",
      "===================================================================================\n",
      "STEP: Starting all triggers...\n",
      "The number of triggers to start: 0\n",
      "==============================================================================\n",
      "   *****   Azure Data Factory files have been deployed successfully.   *****\n",
      "\n",
      "Data Factory name:  rgawltdw395887366rg-df\n",
      "Region (Location):  EastUS\n",
      "     Elapsed time:  0:00:45.262\n",
      "\n",
      "==============================================================================\n",
      "\u001b[33;1mWARNING: We have migrated the API calls for this cmdlet from Azure Active Directory Graph to Microsoft Graph.\n",
      "Visit https://go.microsoft.com/fwlink/?linkid=2181475 for any permission issues.\u001b[0m\n"
     ]
    }
   ],
   "source": [
    "# create a data factory\n",
    "$dataFactory = New-AzDataFactoryV2 `\n",
    "    -ResourceGroupName   $resourceGroupName `\n",
    "    -Location            $location `\n",
    "    -Name                $dataFactoryName\n",
    "\n",
    "# parametrize the adf resources\n",
    "Get-Content .\\adf-resources\\deployment\\adf_config_template.csv | \n",
    "    ForEach-Object { $ExecutionContext.InvokeCommand.ExpandString($_) } > .\\adf-resources\\deployment\\adf_config.csv\n",
    "    \n",
    "# set the options of the deployment\n",
    "$opt = New-AdfPublishOption\n",
    "$opt.DeleteNotInSource = $true\n",
    "\n",
    "# deploy the adf-resources to the data factory\n",
    "$null = Publish-AdfV2FromJson `\n",
    "    -RootFolder            .\\adf-resources `\n",
    "    -ResourceGroupName     $resourceGroupName `\n",
    "    -DataFactoryName       $dataFactoryName `\n",
    "    -Location              $location `\n",
    "    -Option                $opt `\n",
    "    -Stage                 .\\adf-resources\\deployment\\adf_config.csv\n",
    "\n",
    "# grant secret list and get permissions to the data factory\n",
    "$null = Set-AzKeyVaultAccessPolicy `\n",
    "    -VaultName $keyVaultName `\n",
    "    -ObjectId $dataFactory.Identity.PrincipalId `\n",
    "    -PermissionsToSecrets get,list -PassThru"
   ]
  },
  {
   "cell_type": "markdown",
   "metadata": {
    "azdata_cell_guid": "334d8249-f929-4722-855f-3b814a4b9584"
   },
   "source": [
    "## Simulate operations"
   ]
  },
  {
   "cell_type": "code",
   "execution_count": 13,
   "metadata": {
    "azdata_cell_guid": "8f5e9a4d-3426-4bc1-93c9-47e78604bdaa",
    "language": "powershell",
    "scrolled": true
   },
   "outputs": [
    {
     "name": "stdout",
     "output_type": "stream",
     "text": [
      "SUCCESSFULLY MODIFIED DATABASE\n",
      "CHANGE TRACKING ACTIVATED SUCCESSFULLY\n",
      "INTEGRATION SCHEMA CREATED SUCCESSFULLY\n",
      "PRESENTATION SCHEMA CREATED SUCCESSFULLY\n"
     ]
    }
   ],
   "source": [
    "# run the db setup\n",
    "sqlcmd -S $server -d $databaseName  -U $sqlLogin -P $password -I -i db-scripts/1_database_setup.sql\n",
    "\n",
    "# activate change tracking\n",
    "sqlcmd -S $server -d $databaseName  -U $sqlLogin -P $password -I -i db-scripts/2_activate_change_tracking.sql -v DATABASE=$databaseName\n",
    "\n",
    "# create the integration schema\n",
    "sqlcmd -S $server -d $databaseName  -U $sqlLogin -P $password -I -i db-scripts/3_create_integration_schema.sql\n",
    "\n",
    "# create the presentation schema\n",
    "sqlcmd -S $server -d $databaseName  -U $sqlLogin -P $password -I -i db-scripts/3_create_presentation_schema.sql"
   ]
  },
  {
   "cell_type": "code",
   "execution_count": 16,
   "metadata": {
    "azdata_cell_guid": "22002f70-89ea-44a2-a226-1f59bb3f33db",
    "language": "powershell"
   },
   "outputs": [
    {
     "name": "stdout",
     "output_type": "stream",
     "text": [
      "Started pipeline CustomerHistoryInitialLoad with RunID: 38ed19a6-c60f-4ebb-8842-fbaefd013575\n",
      "Pipeline finished with status Succeeded\n"
     ]
    }
   ],
   "source": [
    "# run the customer history initial load\n",
    "Run-AzDataFactoryV2PipelineSync $resourceGroupName $dataFactoryName CustomerHistoryInitialLoad"
   ]
  },
  {
   "cell_type": "code",
   "execution_count": 17,
   "metadata": {},
   "outputs": [
    {
     "name": "stdout",
     "output_type": "stream",
     "text": [
      "Started pipeline ProductHistoryInitialLoad with RunID: 34a695dc-4739-4c20-875e-e018caa06a2f\n",
      "Pipeline finished with status Succeeded\n"
     ]
    }
   ],
   "source": [
    "# run the product history initial load\n",
    "Run-AzDataFactoryV2PipelineSync $resourceGroupName $dataFactoryName ProductHistoryInitialLoad "
   ]
  },
  {
   "cell_type": "code",
   "execution_count": 18,
   "metadata": {},
   "outputs": [
    {
     "name": "stdout",
     "output_type": "stream",
     "text": [
      "Started pipeline SalesOrdersIncrLoad with RunID: 012c2cbb-d226-4470-af4d-181bda60ed7a\n",
      "Pipeline finished with status Succeeded\n"
     ]
    }
   ],
   "source": [
    "# run the sales orders initial load\n",
    "Run-AzDataFactoryV2PipelineSync $resourceGroupName $dataFactoryName SalesOrdersIncrLoad "
   ]
  },
  {
   "cell_type": "code",
   "execution_count": 14,
   "metadata": {
    "azdata_cell_guid": "6a961964-d73c-4bf3-812a-27c382b33a44",
    "language": "powershell"
   },
   "outputs": [
    {
     "name": "stdout",
     "output_type": "stream",
     "text": [
      "\n",
      "\u001b[32;1mpipeline_name pipeline_run_id                      sync_ct_version sync_timestamp\u001b[0m\n",
      "\u001b[32;1m------------- ---------------                      --------------- --------------\u001b[0m\n",
      "customer_sync 369a9934-ee1e-4564-b4ba-96bd1511cbbe               0 8/01/2023 5:26:49 p. m.\n",
      "\n"
     ]
    }
   ],
   "source": [
    "# check the job logs table\n",
    "\n",
    "Invoke-Sqlcmd -ServerInstance $server -Database $databaseName -Username $sqlLogin -Password $password -Query \"\n",
    "SELECT * \n",
    "FROM integration.JobLogs\n",
    "ORDER BY pipeline_name, sync_timestamp\n",
    "\""
   ]
  },
  {
   "cell_type": "code",
   "execution_count": 15,
   "metadata": {
    "azdata_cell_guid": "d1d34b72-592b-4ad5-9199-1d53392b6d70",
    "language": "powershell"
   },
   "outputs": [
    {
     "name": "stdout",
     "output_type": "stream",
     "text": [
      "\n",
      "\u001b[32;1mCustomersHistoryNRows ProductsHistoryNRows FactSalesOrdersNRows\u001b[0m\n",
      "\u001b[32;1m--------------------- -------------------- --------------------\u001b[0m\n",
      "                   32                    0                    0\n",
      "\n"
     ]
    }
   ],
   "source": [
    "# check the number of rows for tables in the presentation schema\n",
    "\n",
    "Invoke-Sqlcmd -ServerInstance $server -Database $databaseName -Username $sqlLogin -Password $password -Query \"\n",
    "SELECT \n",
    "    (SELECT COUNT(*) FROM presentation.CustomersHistory) as CustomersHistoryNRows,\n",
    "    (SELECT COUNT(*) FROM presentation.ProductsHistory) as ProductsHistoryNRows,\n",
    "    (SELECT COUNT(*) FROM presentation.FactSalesOrders) as FactSalesOrdersNRows\n",
    "\""
   ]
  },
  {
   "cell_type": "code",
   "execution_count": 16,
   "metadata": {
    "azdata_cell_guid": "f6d40689-41b4-4859-976f-bf1b67a22b13",
    "language": "powershell",
    "scrolled": true
   },
   "outputs": [
    {
     "name": "stdout",
     "output_type": "stream",
     "text": [
      "SUCCESSFULLY COMPLETED OPERATIONS FOR DAY 1\n"
     ]
    }
   ],
   "source": [
    "# execute the operations of day 1\n",
    "sqlcmd -S $server -d $databaseName  -U $sqlLogin -P $password -I -i db-scripts/4_operations_day_1.sql"
   ]
  },
  {
   "cell_type": "code",
   "execution_count": 22,
   "metadata": {
    "azdata_cell_guid": "3ba9e48a-7858-4bbe-85eb-8ce1cb11bcab",
    "language": "powershell"
   },
   "outputs": [
    {
     "name": "stdout",
     "output_type": "stream",
     "text": [
      "Started pipeline CustomerHistoryIncrLoad with RunID: 34acf61e-d3b0-426f-bee2-4e5a2250cc88\n",
      "Pipeline finished with status Succeeded\n"
     ]
    }
   ],
   "source": [
    "# run the customer history incremental load\n",
    "Run-AzDataFactoryV2PipelineSync $resourceGroupName $dataFactoryName CustomerHistoryIncrLoad"
   ]
  },
  {
   "cell_type": "code",
   "execution_count": 23,
   "metadata": {},
   "outputs": [
    {
     "name": "stdout",
     "output_type": "stream",
     "text": [
      "Started pipeline ProductHistoryIncrLoad with RunID: 45b75887-1064-4521-9e39-4f0ba323ab34\n",
      "Pipeline finished with status Succeeded\n"
     ]
    }
   ],
   "source": [
    "# run the product history incremental load\n",
    "Run-AzDataFactoryV2PipelineSync $resourceGroupName $dataFactoryName ProductHistoryIncrLoad"
   ]
  },
  {
   "cell_type": "code",
   "execution_count": 24,
   "metadata": {},
   "outputs": [
    {
     "name": "stdout",
     "output_type": "stream",
     "text": [
      "Started pipeline SalesOrdersIncrLoad with RunID: abefc3c9-518d-4166-a0d1-c8cc07fdaee8\n",
      "Pipeline finished with status Succeeded\n"
     ]
    }
   ],
   "source": [
    "# run the sales orders incremental load\n",
    "Run-AzDataFactoryV2PipelineSync $resourceGroupName $dataFactoryName SalesOrdersIncrLoad"
   ]
  },
  {
   "cell_type": "code",
   "execution_count": 24,
   "metadata": {
    "azdata_cell_guid": "09f19216-26a7-4cde-aafc-976760dcecb0",
    "language": "powershell"
   },
   "outputs": [
    {
     "name": "stdout",
     "output_type": "stream",
     "text": [
      "\n",
      "\u001b[32;1mpipeline_name pipeline_run_id                      sync_ct_version sync_timestamp\u001b[0m\n",
      "\u001b[32;1m------------- ---------------                      --------------- --------------\u001b[0m\n",
      "customer_sync 369a9934-ee1e-4564-b4ba-96bd1511cbbe               0 8/01/2023 5:26:49 p. m.\n",
      "customer_sync d1ec0254-9e90-4c0e-b1bc-619c56d37816               7 8/01/2023 5:48:41 p. m.\n",
      "customer_sync 869e1f40-e474-4545-a756-1f66b9843972               7 8/01/2023 5:50:22 p. m.\n",
      "\n"
     ]
    }
   ],
   "source": [
    "# check the job logs table\n",
    "\n",
    "Invoke-Sqlcmd -ServerInstance $server -Database $databaseName -Username $sqlLogin -Password $password -Query \"\n",
    "SELECT * \n",
    "FROM integration.JobLogs\n",
    "ORDER BY pipeline_name, sync_timestamp\n",
    "\""
   ]
  },
  {
   "cell_type": "code",
   "execution_count": 25,
   "metadata": {
    "azdata_cell_guid": "8f3b3a60-d1e5-47c7-8ccc-22e40104f4e2",
    "language": "powershell"
   },
   "outputs": [
    {
     "name": "stdout",
     "output_type": "stream",
     "text": [
      "\n",
      "\u001b[32;1mCustomersHistoryNRows ProductsHistoryNRows FactSalesOrdersNRows\u001b[0m\n",
      "\u001b[32;1m--------------------- -------------------- --------------------\u001b[0m\n",
      "                   35                    0                    0\n",
      "\n"
     ]
    }
   ],
   "source": [
    "# check the number of rows for tables in the presentation schema\n",
    "# the number of rows in the CustomersHistory and ProductsHistory table should increment\n",
    "# the number of rows in the FactSalesOrders should not increment as no orders have \n",
    "#     reached finished state since the last syncrhonization\n",
    "\n",
    "Invoke-Sqlcmd -ServerInstance $server -Database $databaseName -Username $sqlLogin -Password $password -Query \"\n",
    "SELECT \n",
    "    (SELECT COUNT(*) FROM presentation.CustomersHistory) as CustomersHistoryNRows,\n",
    "    (SELECT COUNT(*) FROM presentation.ProductsHistory) as ProductsHistoryNRows,\n",
    "    (SELECT COUNT(*) FROM presentation.FactSalesOrders) as FactSalesOrdersNRows\n",
    "\""
   ]
  },
  {
   "cell_type": "code",
   "execution_count": 19,
   "metadata": {
    "azdata_cell_guid": "b17f9ac2-b08c-45b7-bfbc-71c433f95a19",
    "language": "powershell",
    "scrolled": false
   },
   "outputs": [
    {
     "name": "stdout",
     "output_type": "stream",
     "text": [
      "\n",
      "\u001b[32;1mSurrogateKey            : \u001b[0m35\n",
      "\u001b[32;1mCustomerID              : \u001b[0m30119\n",
      "\u001b[32;1mNameStyle               : \u001b[0mFalse\n",
      "\u001b[32;1mTitle                   : \u001b[0m\n",
      "\u001b[32;1mFirstName               : \u001b[0mEugene\n",
      "\u001b[32;1mMiddleName              : \u001b[0m\n",
      "\u001b[32;1mLastName                : \u001b[0mPorter\n",
      "\u001b[32;1mSuffix                  : \u001b[0m\n",
      "\u001b[32;1mCompanyName             : \u001b[0mRegressive Sports\n",
      "\u001b[32;1mEmailAddress            : \u001b[0meugene0@adventure-works.com\n",
      "\u001b[32;1mPhone                   : \u001b[0m279-555-0130\n",
      "\u001b[32;1mSalesPerson             : \u001b[0madventure-works\\jillian0\n",
      "\u001b[32;1mMainOfficeAddressLine1  : \u001b[0m1434 Marshall Rd\n",
      "\u001b[32;1mMainOfficeAddressLine2  : \u001b[0m\n",
      "\u001b[32;1mMainOfficeCity          : \u001b[0mAlpine\n",
      "\u001b[32;1mMainOfficeStateProvince : \u001b[0mCalifornia\n",
      "\u001b[32;1mMainOfficeCountryRegion : \u001b[0mUnited States\n",
      "\u001b[32;1mMainOfficePostalCode    : \u001b[0m91901\n",
      "\u001b[32;1mRowEffectiveDate        : \u001b[0m8/01/2023 5:27:57 p. m.\n",
      "\u001b[32;1mRowExpirationDate       : \u001b[0m31/12/9999 12:00:00 a. m.\n",
      "\u001b[32;1mRowCurrentFlag          : \u001b[0mTrue\n",
      "\u001b[32;1mRowDeletedFlag          : \u001b[0mFalse\n",
      "\n",
      "\n"
     ]
    }
   ],
   "source": [
    "# check the changes made by transaction number 1\n",
    "# check that the new customer (Eugene Porter) has been loaded to the DW\n",
    "\n",
    "Invoke-Sqlcmd -ServerInstance $server -Database $databaseName -Username $sqlLogin -Password $password -Query \"\n",
    "SELECT * \n",
    "FROM presentation.DimCustomer \n",
    "WHERE FirstName = 'Eugene' and LastName = 'Porter'\n",
    "ORDER BY RowEffectiveDate;\n",
    "\""
   ]
  },
  {
   "cell_type": "code",
   "execution_count": 22,
   "metadata": {
    "azdata_cell_guid": "a67ff7d7-a97d-489e-aa12-65744d3bbb10",
    "language": "powershell"
   },
   "outputs": [
    {
     "name": "stdout",
     "output_type": "stream",
     "text": [
      "\n",
      "\u001b[32;1mCustomerID SalesPerson            RowEffectiveDate         RowExpirationDate           RCF   RDF\u001b[0m\n",
      "\u001b[32;1m---------- -----------            ----------------         -----------------           ---   ---\u001b[0m\n",
      "     29568 adventure-works\\shu0   1/06/2008 12:00:00 a. m. 8/01/2023 5:27:57 p. m.   False False\n",
      "     29568 adventure-works\\linda3 8/01/2023 5:27:57 p. m.  31/12/9999 12:00:00 a. m.  True False\n",
      "\n"
     ]
    }
   ],
   "source": [
    "# check the changes made by transaction number 2\n",
    "# check that the sales person of customer 29568 has been modified\n",
    "# given that this is an SCD 2 column, a new row should be inserted.\n",
    "\n",
    "Invoke-Sqlcmd -ServerInstance $server -Database $databaseName -Username $sqlLogin -Password $password -Query \"\n",
    "SELECT \n",
    "CustomerID, SalesPerson, \n",
    "RowEffectiveDate, RowExpirationDate, RowCurrentFlag as RCF, RowDeletedFlag as RDF\n",
    "FROM presentation.DimCustomer \n",
    "WHERE CustomerID = 29568\n",
    "ORDER BY RowEffectiveDate;\n",
    "\" | \n",
    "Format-Table"
   ]
  },
  {
   "cell_type": "code",
   "execution_count": 23,
   "metadata": {
    "azdata_cell_guid": "94135cd9-b672-451e-84b5-236eb907a075",
    "language": "powershell"
   },
   "outputs": [
    {
     "name": "stdout",
     "output_type": "stream",
     "text": [
      "\n",
      "\u001b[32;1mCustomerID MainOfficeAddressLine1 RowEffectiveDate         RowExpirationDate           RCF   RDF\u001b[0m\n",
      "\u001b[32;1m---------- ---------------------- ----------------         -----------------           ---   ---\u001b[0m\n",
      "     29485 57251 Serene Blvd      1/06/2008 12:00:00 a. m. 8/01/2023 5:27:57 p. m.   False False\n",
      "     29485 7343 Sepulveda Blvd    8/01/2023 5:27:57 p. m.  31/12/9999 12:00:00 a. m.  True False\n",
      "\n"
     ]
    }
   ],
   "source": [
    "# check the changes made by transaction number 3\n",
    "# check that the main office address line 1 of customer 29485 has been modified\n",
    "# given that these are an SCD 2 column, a new row should be inserted\n",
    "\n",
    "Invoke-Sqlcmd -ServerInstance $server -Database $databaseName -Username $sqlLogin -Password $password -Query \"\n",
    "SELECT \n",
    "CustomerID, MainOfficeAddressLine1, \n",
    "RowEffectiveDate, RowExpirationDate, RowCurrentFlag as RCF, RowDeletedFlag as RDF\n",
    "FROM presentation.DimCustomer\n",
    "WHERE CustomerID = 29485\n",
    "ORDER BY RowEffectiveDate;\n",
    "\" | \n",
    "Format-Table"
   ]
  },
  {
   "cell_type": "code",
   "execution_count": 21,
   "metadata": {
    "azdata_cell_guid": "d282988f-be65-4944-895f-d0da036caba8",
    "language": "powershell"
   },
   "outputs": [
    {
     "name": "stdout",
     "output_type": "stream",
     "text": []
    }
   ],
   "source": [
    "# check the changes made by transaction number 6\n",
    "# check the list price of products with product model 36 (Touring-3000) have been modified\n",
    "# given that this is an SCD 2 column, a new row should be inserted for each product\n",
    "\n",
    "Invoke-Sqlcmd -ServerInstance $server -Database $databaseName -Username $sqlLogin -Password $password -Query \"\n",
    "SELECT \n",
    "ProductID, ProductModel, ListPrice,\n",
    "RowEffectiveDate, RowExpirationDate, RowCurrentFlag as RCF, RowDeletedFlag as RDF\n",
    "FROM presentation.DimProduct\n",
    "WHERE ProductModel = 'Touring-3000'\n",
    "ORDER BY ProductID, RowEffectiveDate;\n",
    "\" | \n",
    "Format-Table"
   ]
  },
  {
   "cell_type": "code",
   "execution_count": 31,
   "metadata": {
    "azdata_cell_guid": "7c5dbec0-5fe3-432a-b380-46618627922c",
    "language": "powershell"
   },
   "outputs": [
    {
     "name": "stdout",
     "output_type": "stream",
     "text": [
      "\n",
      "\u001b[32;1mProductID ProductSubcategory RowEffectiveDate         RowExpirationDate           RCF   RDF\u001b[0m\n",
      "\u001b[32;1m--------- ------------------ ----------------         -----------------           ---   ---\u001b[0m\n",
      "      870 Bottles            1/07/2007 12:00:00 a. m. 2/01/2023 12:47:44 p. m.  False False\n",
      "      870 Bottles            2/01/2023 12:47:44 p. m. 31/12/9999 12:00:00 a. m.  True False\n",
      "      871 Bottle Cages       1/07/2007 12:00:00 a. m. 2/01/2023 12:47:44 p. m.  False False\n",
      "      871 Bottle Cages       2/01/2023 12:47:44 p. m. 31/12/9999 12:00:00 a. m.  True False\n",
      "      872 Bottle Cages       1/07/2007 12:00:00 a. m. 2/01/2023 12:47:44 p. m.  False False\n",
      "      872 Bottle Cages       2/01/2023 12:47:44 p. m. 31/12/9999 12:00:00 a. m.  True False\n",
      "\n"
     ]
    }
   ],
   "source": [
    "# check the changes made by transaction number 7\n",
    "# check that the product category 'Bottles and Cages' has been divided into 'Bottles' and 'Bottle Cages'\n",
    "# given that this is an SCD 1 column, the existing rows should be modified\n",
    "\n",
    "Invoke-Sqlcmd -ServerInstance $server -Database $databaseName -Username $sqlLogin -Password $password -Query \"\n",
    "SELECT \n",
    "ProductID, ProductSubcategory, \n",
    "RowEffectiveDate, RowExpirationDate, RowCurrentFlag as RCF, RowDeletedFlag as RDF\n",
    "FROM presentation.DimProduct\n",
    "WHERE ProductID IN (870, 871, 872)\n",
    "ORDER BY ProductID, RowEffectiveDate;\n",
    "\" | \n",
    "Format-Table"
   ]
  },
  {
   "cell_type": "code",
   "execution_count": 32,
   "metadata": {
    "azdata_cell_guid": "e1e35116-6b6c-4626-b640-485750bb91ce",
    "language": "powershell"
   },
   "outputs": [
    {
     "name": "stdout",
     "output_type": "stream",
     "text": [
      "\n",
      "\u001b[32;1mProductID SellEndDate              RowEffectiveDate         RowExpirationDate           RCF   RDF\u001b[0m\n",
      "\u001b[32;1m--------- -----------              ----------------         -----------------           ---   ---\u001b[0m\n",
      "      907 2/01/2023 12:47:44 p. m. 1/07/2007 12:00:00 a. m. 2/01/2023 12:47:44 p. m.  False False\n",
      "      907 2/01/2023 12:47:44 p. m. 2/01/2023 12:47:44 p. m. 31/12/9999 12:00:00 a. m.  True False\n",
      "\n"
     ]
    }
   ],
   "source": [
    "# check the changes made by transaction number 8\n",
    "# check that product 907 has been discontinued\n",
    "# given that this is an SCD 1 column, the SellEndDate should be updated for all rows\n",
    "\n",
    "Invoke-Sqlcmd -ServerInstance $server -Database $databaseName -Username $sqlLogin -Password $password -Query \"\n",
    "SELECT \n",
    "ProductID, SellEndDate, \n",
    "RowEffectiveDate, RowExpirationDate, RowCurrentFlag as RCF, RowDeletedFlag as RDF\n",
    "FROM presentation.DimProduct \n",
    "WHERE ProductID = 907\n",
    "ORDER BY ProductID, RowEffectiveDate;\n",
    "\" | \n",
    "Format-Table"
   ]
  },
  {
   "cell_type": "code",
   "execution_count": 33,
   "metadata": {
    "azdata_cell_guid": "95ac9f33-ae1d-424c-9db7-eb8849ef5a02",
    "language": "powershell"
   },
   "outputs": [
    {
     "name": "stdout",
     "output_type": "stream",
     "text": [
      "\n",
      "\u001b[32;1mProductID ProductModel  RowEffectiveDate         RowExpirationDate           RCF   RDF\u001b[0m\n",
      "\u001b[32;1m--------- ------------  ----------------         -----------------           ---   ---\u001b[0m\n",
      "      864 Standard Vest 1/07/2007 12:00:00 a. m. 2/01/2023 12:47:44 p. m.  False False\n",
      "      864 Standard Vest 2/01/2023 12:47:44 p. m. 31/12/9999 12:00:00 a. m.  True False\n",
      "      865 Standard Vest 1/07/2007 12:00:00 a. m. 2/01/2023 12:47:44 p. m.  False False\n",
      "      865 Standard Vest 2/01/2023 12:47:44 p. m. 31/12/9999 12:00:00 a. m.  True False\n",
      "      866 Standard Vest 1/07/2007 12:00:00 a. m. 2/01/2023 12:47:44 p. m.  False False\n",
      "      866 Standard Vest 2/01/2023 12:47:44 p. m. 31/12/9999 12:00:00 a. m.  True False\n",
      "\n"
     ]
    }
   ],
   "source": [
    "# check the changes made by transaction number 9\n",
    "# check that the name of product model 1 has changed from 'Classic Vest' to 'Standard Vest'\n",
    "# given that this is an SCD 1 column, all rows should be modified\n",
    "\n",
    "Invoke-Sqlcmd -ServerInstance $server -Database $databaseName -Username $sqlLogin -Password $password -Query \"\n",
    "SELECT \n",
    "ProductID, ProductModel,\n",
    "RowEffectiveDate, RowExpirationDate, RowCurrentFlag as RCF, RowDeletedFlag as RDF\n",
    "FROM presentation.DimProduct\n",
    "WHERE ProductID IN (864, 865, 866)\n",
    "ORDER BY ProductID, RowEffectiveDate;\n",
    "\" | \n",
    "Format-Table"
   ]
  },
  {
   "cell_type": "code",
   "execution_count": 34,
   "metadata": {
    "azdata_cell_guid": "594bf0bb-5b3b-4ccc-be76-4ee983618902",
    "language": "powershell",
    "tags": []
   },
   "outputs": [
    {
     "name": "stdout",
     "output_type": "stream",
     "text": [
      "SUCCESSFULLY COMPLETED OPERATIONS FOR DAY 2\n"
     ]
    }
   ],
   "source": [
    "# execute the operations of day 2\n",
    "sqlcmd -S $server -d $databaseName  -U $sqlLogin -P $password -I -i db-scripts/4_operations_day_2.sql"
   ]
  },
  {
   "cell_type": "code",
   "execution_count": 35,
   "metadata": {
    "azdata_cell_guid": "ec6bdd92-b2ec-4a36-aa97-8102be9d0db5",
    "language": "powershell"
   },
   "outputs": [
    {
     "name": "stdout",
     "output_type": "stream",
     "text": [
      "Started pipeline CustomerHistoryIncrLoad with RunID: cdb9608e-bda8-4606-80ce-89c5f73aae7c\n",
      "Pipeline finished with status Succeeded\n"
     ]
    }
   ],
   "source": [
    "# run the customer history incremental load\n",
    "Run-AzDataFactoryV2PipelineSync $resourceGroupName $dataFactoryName CustomerHistoryIncrLoad"
   ]
  },
  {
   "cell_type": "code",
   "execution_count": 36,
   "metadata": {},
   "outputs": [
    {
     "name": "stdout",
     "output_type": "stream",
     "text": [
      "Started pipeline ProductHistoryIncrLoad with RunID: 703fc21a-7e1e-4157-b4d6-c46d6050275e\n",
      "Pipeline finished with status Succeeded\n"
     ]
    }
   ],
   "source": [
    "# run the product history incremental load\n",
    "Run-AzDataFactoryV2PipelineSync $resourceGroupName $dataFactoryName ProductHistoryIncrLoad"
   ]
  },
  {
   "cell_type": "code",
   "execution_count": 37,
   "metadata": {},
   "outputs": [
    {
     "name": "stdout",
     "output_type": "stream",
     "text": [
      "Started pipeline SalesOrdersIncrLoad with RunID: 93d552e2-c2ef-41a4-8776-745321ffd83c\n",
      "Pipeline finished with status Succeeded\n"
     ]
    }
   ],
   "source": [
    "# run the sales orders incremental load\n",
    "Run-AzDataFactoryV2PipelineSync $resourceGroupName $dataFactoryName SalesOrdersIncrLoad"
   ]
  },
  {
   "cell_type": "code",
   "execution_count": 38,
   "metadata": {},
   "outputs": [
    {
     "name": "stdout",
     "output_type": "stream",
     "text": [
      "\n",
      "\u001b[32;1mpipeline_name    pipeline_run_id                      sync_ct_version sync_timestamp\u001b[0m\n",
      "\u001b[32;1m-------------    ---------------                      --------------- --------------\u001b[0m\n",
      "customer_sync    38ed19a6-c60f-4ebb-8842-fbaefd013575               0 2/01/2023 12:39:16 p. m.\n",
      "customer_sync    34acf61e-d3b0-426f-bee2-4e5a2250cc88               7 2/01/2023 12:48:04 p. m.\n",
      "customer_sync    cdb9608e-bda8-4606-80ce-89c5f73aae7c               7 2/01/2023 12:53:50 p. m.\n",
      "product_sync     34a695dc-4739-4c20-875e-e018caa06a2f               0 2/01/2023 12:44:12 p. m.\n",
      "product_sync     45b75887-1064-4521-9e39-4f0ba323ab34               7 2/01/2023 12:49:40 p. m.\n",
      "product_sync     703fc21a-7e1e-4157-b4d6-c46d6050275e               7 2/01/2023 12:55:17 p. m.\n",
      "sales_order_sync 012c2cbb-d226-4470-af4d-181bda60ed7a                 2/01/2023 12:45:06 p. m.\n",
      "sales_order_sync abefc3c9-518d-4166-a0d1-c8cc07fdaee8                 2/01/2023 12:50:48 p. m.\n",
      "sales_order_sync 93d552e2-c2ef-41a4-8776-745321ffd83c                 2/01/2023 12:56:41 p. m.\n",
      "\n"
     ]
    }
   ],
   "source": [
    "# check the job logs table\n",
    "\n",
    "Invoke-Sqlcmd -ServerInstance $server -Database $databaseName -Username $sqlLogin -Password $password -Query \"\n",
    "SELECT * \n",
    "FROM integration.JobLogs\n",
    "ORDER BY pipeline_name, sync_timestamp\n",
    "\""
   ]
  },
  {
   "cell_type": "code",
   "execution_count": 39,
   "metadata": {
    "azdata_cell_guid": "edb84c9b-02b2-46b8-8178-055d445730a2",
    "language": "powershell"
   },
   "outputs": [
    {
     "name": "stdout",
     "output_type": "stream",
     "text": [
      "\n",
      "\u001b[32;1mCustomersHistoryNRows ProductsHistoryNRows FactSalesOrdersNRows\u001b[0m\n",
      "\u001b[32;1m--------------------- -------------------- --------------------\u001b[0m\n",
      "                   35                  312                  545\n",
      "\n"
     ]
    }
   ],
   "source": [
    "# check the number of rows for tables in the presentation schema\n",
    "# the number of rows in the CustomersHistory and ProductsHistory tables should not increment\n",
    "# the number of rows in FactSalesOrdersRows should increment by 3\n",
    "\n",
    "Invoke-Sqlcmd -ServerInstance $server -Database $databaseName -Username $sqlLogin -Password $password -Query \"\n",
    "SELECT \n",
    "    (SELECT COUNT(*) FROM presentation.CustomersHistory) as CustomersHistoryNRows,\n",
    "    (SELECT COUNT(*) FROM presentation.ProductsHistory) as ProductsHistoryNRows,\n",
    "    (SELECT COUNT(*) FROM presentation.FactSalesOrders) as FactSalesOrdersNRows\n",
    "\""
   ]
  },
  {
   "cell_type": "code",
   "execution_count": 40,
   "metadata": {
    "azdata_cell_guid": "0e926437-3100-4b56-a16b-43dffe5126e6",
    "language": "powershell"
   },
   "outputs": [
    {
     "name": "stdout",
     "output_type": "stream",
     "text": [
      "\n",
      "\u001b[32;1mSalesOrderID SalesOrderDetailID OrderDate                CustomerID ProductID\u001b[0m\n",
      "\u001b[32;1m------------ ------------------ ---------                ---------- ---------\u001b[0m\n",
      "           1             113407 2/01/2023 12:47:44 p. m.      29781       870\n",
      "           1             113408 2/01/2023 12:47:44 p. m.      29781       874\n",
      "           1             113409 2/01/2023 12:47:44 p. m.      29781       875\n",
      "       71923             113152 1/06/2008 12:00:00 a. m.      29781       870\n",
      "       71923             113153 1/06/2008 12:00:00 a. m.      29781       874\n",
      "       71923             113154 1/06/2008 12:00:00 a. m.      29781       875\n",
      "\n"
     ]
    }
   ],
   "source": [
    "# check the changes made by transaction number 1\n",
    "# check that the sales order placed by customer 29781 has been loaded into the DW\n",
    "\n",
    "Invoke-Sqlcmd -ServerInstance $server -Database $databaseName -Username $sqlLogin -Password $password -Query \"\n",
    "SELECT \n",
    "SalesOrderID, SalesOrderDetailID, OrderDate, CustomerID, ProductID\n",
    "FROM presentation.FactSalesOrders\n",
    "WHERE CustomerID = 29781\n",
    "\" | \n",
    "Format-Table"
   ]
  },
  {
   "cell_type": "code",
   "execution_count": 41,
   "metadata": {
    "azdata_cell_guid": "4983d888-12a7-4320-997b-46f22962fcec",
    "language": "powershell"
   },
   "outputs": [
    {
     "name": "stdout",
     "output_type": "stream",
     "text": [
      "True\n"
     ]
    }
   ],
   "source": [
    "# delete the resource group\n",
    "Remove-AzResourceGroup `\n",
    "    -name  $resourceGroupName `\n",
    "    -Force"
   ]
  },
  {
   "cell_type": "code",
   "execution_count": null,
   "metadata": {},
   "outputs": [],
   "source": []
  }
 ],
 "metadata": {
  "kernelspec": {
   "display_name": "PowerShell",
   "language": "powershell",
   "name": "powershell"
  },
  "language_info": {
   "codemirror_mode": "shell",
   "file_extension": ".ps1",
   "mimetype": "text/x-sh",
   "name": "powershell"
  }
 },
 "nbformat": 4,
 "nbformat_minor": 2
}
